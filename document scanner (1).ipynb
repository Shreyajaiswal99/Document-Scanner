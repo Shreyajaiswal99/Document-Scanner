{
 "cells": [
  {
   "cell_type": "code",
   "execution_count": 21,
   "metadata": {},
   "outputs": [],
   "source": [
    "import cv2\n",
    "import numpy as np \n",
    "import pandas as pd\n",
    "from matplotlib import pyplot\n",
    "import imutils\n",
    "from imutils.perspective import four_point_transform\n",
    "from skimage.filters import threshold_local\n",
    "import argparse\n"
   ]
  },
  {
   "cell_type": "code",
   "execution_count": 22,
   "metadata": {},
   "outputs": [
    {
     "name": "stdout",
     "output_type": "stream",
     "text": [
      "[[[182 171 209]\n",
      "  [180 169 207]\n",
      "  [177 166 206]\n",
      "  ...\n",
      "  [ 54  43 113]\n",
      "  [ 55  44 114]\n",
      "  [ 55  44 114]]\n",
      "\n",
      " [[181 170 208]\n",
      "  [179 168 206]\n",
      "  [176 165 205]\n",
      "  ...\n",
      "  [ 53  42 112]\n",
      "  [ 54  43 113]\n",
      "  [ 54  43 113]]\n",
      "\n",
      " [[178 167 207]\n",
      "  [175 164 204]\n",
      "  [172 160 202]\n",
      "  ...\n",
      "  [ 52  41 111]\n",
      "  [ 53  42 112]\n",
      "  [ 54  43 113]]\n",
      "\n",
      " ...\n",
      "\n",
      " [[ 85 111 111]\n",
      "  [ 88 114 114]\n",
      "  [ 92 118 118]\n",
      "  ...\n",
      "  [ 41  36  75]\n",
      "  [ 40  36  72]\n",
      "  [ 40  36  72]]\n",
      "\n",
      " [[ 84 110 110]\n",
      "  [ 87 113 113]\n",
      "  [ 90 116 116]\n",
      "  ...\n",
      "  [ 39  34  73]\n",
      "  [ 40  36  72]\n",
      "  [ 40  36  72]]\n",
      "\n",
      " [[ 83 109 109]\n",
      "  [ 86 112 112]\n",
      "  [ 90 116 116]\n",
      "  ...\n",
      "  [ 38  33  72]\n",
      "  [ 40  36  72]\n",
      "  [ 41  37  73]]]\n"
     ]
    }
   ],
   "source": [
    "image = cv2.imread(r\"C:\\Users\\ASUS\\Downloads\\pss.jpeg\")\n",
    "cv2.imshow(\"image\",image)\n",
    "cv2.waitKey(0)\n",
    "cv2.destroyAllWindows()\n",
    "print(image)\n"
   ]
  },
  {
   "cell_type": "code",
   "execution_count": 23,
   "metadata": {},
   "outputs": [],
   "source": [
    "orig = image.copy()\n",
    "ratio = image.shape[0]/500.0\n",
    "image = imutils.resize(image, height =500)\n",
    "gray = cv2.cvtColor(image, cv2.COLOR_RGB2GRAY)\n",
    "gray = cv2.GaussianBlur(gray, (5,5),0)\n",
    "cv2.imshow(\"gray\",gray)\n",
    "cv2.waitKey(0)\n",
    "cv2.destroyAllWindows()"
   ]
  },
  {
   "cell_type": "code",
   "execution_count": 24,
   "metadata": {},
   "outputs": [],
   "source": [
    "edges = cv2.Canny(gray, 75, 200)\n",
    "cv2.imshow(\"edges\",edges)\n",
    "cv2.waitKey(0)\n",
    "cv2.destroyAllWindows()"
   ]
  },
  {
   "cell_type": "code",
   "execution_count": 25,
   "metadata": {},
   "outputs": [],
   "source": [
    "cnts = cv2.findContours(edges,cv2.RETR_LIST,cv2.CHAIN_APPROX_SIMPLE)\n",
    "cnts = imutils.grab_contours(cnts)\n",
    "cnts = sorted(cnts,key = cv2.contourArea, reverse = True)[:5]"
   ]
  },
  {
   "cell_type": "code",
   "execution_count": 26,
   "metadata": {},
   "outputs": [],
   "source": [
    "for c in cnts:\n",
    "    p = cv2.arcLength(c,True)\n",
    "    approx = cv2.approxPolyDP(c,0.02*p,True)\n",
    "    if len(approx)==4:\n",
    "        screenCnt = approx\n",
    "        break\n",
    "    "
   ]
  },
  {
   "cell_type": "code",
   "execution_count": 27,
   "metadata": {},
   "outputs": [],
   "source": [
    "cv2.drawContours(image, [screenCnt], -1,  (0,255,0), 2)\n",
    "cv2.imshow(\"outline\",image)\n",
    "cv2.waitKey(0)\n",
    "cv2.destroyAllWindows()"
   ]
  },
  {
   "cell_type": "code",
   "execution_count": null,
   "metadata": {},
   "outputs": [],
   "source": []
  },
  {
   "cell_type": "markdown",
   "metadata": {},
   "source": [
    "## "
   ]
  },
  {
   "cell_type": "code",
   "execution_count": 28,
   "metadata": {},
   "outputs": [],
   "source": [
    "warped = four_point_transform(orig, screenCnt.reshape(4, 2) * ratio)\n",
    "warped = cv2.cvtColor(warped, cv2.COLOR_BGR2GRAY)\n",
    "t = threshold_local(warped, 11, offset = 10, method = \"gaussian\")\n",
    "warped =  (warped > t).astype(\"uint8\") * 255"
   ]
  },
  {
   "cell_type": "code",
   "execution_count": null,
   "metadata": {},
   "outputs": [],
   "source": [
    "\n",
    "cv2.imshow(\"original\", imutils.resize(orig, height = 550))\n",
    "cv2.imshow(\"scanned\", imutils.resize(warped, height = 550))\n",
    "cv2.waitKey(0)\n",
    "cv2.destroyAllWindows()"
   ]
  },
  {
   "cell_type": "code",
   "execution_count": null,
   "metadata": {},
   "outputs": [],
   "source": []
  }
 ],
 "metadata": {
  "kernelspec": {
   "display_name": "Python 3",
   "language": "python",
   "name": "python3"
  },
  "language_info": {
   "codemirror_mode": {
    "name": "ipython",
    "version": 3
   },
   "file_extension": ".py",
   "mimetype": "text/x-python",
   "name": "python",
   "nbconvert_exporter": "python",
   "pygments_lexer": "ipython3",
   "version": "3.7.3"
  }
 },
 "nbformat": 4,
 "nbformat_minor": 2
}
